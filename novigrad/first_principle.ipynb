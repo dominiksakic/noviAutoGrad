{
 "cells": [
  {
   "cell_type": "code",
   "execution_count": 68,
   "id": "4cf9883d",
   "metadata": {},
   "outputs": [],
   "source": [
    "import math\n",
    "import numpy as np\n",
    "import matplotlib.pyplot as plt\n",
    "%matplotlib inline"
   ]
  },
  {
   "cell_type": "code",
   "execution_count": 69,
   "id": "6212ead7",
   "metadata": {},
   "outputs": [],
   "source": [
    "def func(x):\n",
    "  return 3*x**2 - 4*x"
   ]
  },
  {
   "cell_type": "code",
   "execution_count": 70,
   "id": "abf3b50e",
   "metadata": {},
   "outputs": [
    {
     "data": {
      "text/plain": [
       "32.0"
      ]
     },
     "execution_count": 70,
     "metadata": {},
     "output_type": "execute_result"
    }
   ],
   "source": [
    "func(4.0)"
   ]
  },
  {
   "cell_type": "code",
   "execution_count": 71,
   "id": "d63fb3bd",
   "metadata": {},
   "outputs": [
    {
     "data": {
      "image/png": "[encoded data removed]",
      "text/plain": [
       "<Figure size 640x480 with 1 Axes>"
      ]
     },
     "metadata": {},
     "output_type": "display_data"
    }
   ],
   "source": [
    "xs = np.arange(-5, 5, 0.25)\n",
    "ys = func(xs)\n",
    "plt.plot(xs, ys)\n",
    "plt.show()"
   ]
  },
  {
   "cell_type": "code",
   "execution_count": 72,
   "id": "e1734edc",
   "metadata": {},
   "outputs": [
    {
     "data": {
      "text/plain": [
       "0.00030000000039720476"
      ]
     },
     "execution_count": 72,
     "metadata": {},
     "output_type": "execute_result"
    }
   ],
   "source": [
    "h = 0.0001\n",
    "x = 2/3\n",
    "(func(x + h) - func(x))/h"
   ]
  },
  {
   "cell_type": "markdown",
   "id": "de45c6d6",
   "metadata": {},
   "source": [
    "- Deriviate is telling me if i increase x just a little bit, then how does the function respond?\n",
    "- Is it going up or down at that slope? (rise over run)\n",
    "- Slope is the steepness of a point.\n",
    "- Other way of thinking is: How much does y change if I change x a little bit?"
   ]
  },
  {
   "cell_type": "code",
   "execution_count": 73,
   "id": "dc8f8db4",
   "metadata": {},
   "outputs": [
    {
     "name": "stdout",
     "output_type": "stream",
     "text": [
      "4.0\n"
     ]
    }
   ],
   "source": [
    "a = 2.0\n",
    "b = -3.0\n",
    "c = 10\n",
    "\n",
    "d = a*b + c\n",
    "print(d)"
   ]
  },
  {
   "cell_type": "code",
   "execution_count": 74,
   "id": "b835614f",
   "metadata": {},
   "outputs": [
    {
     "name": "stdout",
     "output_type": "stream",
     "text": [
      "d1 4.0\n",
      "d2 3.999699999999999\n",
      "slope -3.000000000010772\n"
     ]
    }
   ],
   "source": [
    "h = 0.0001\n",
    "\n",
    "# inputs\n",
    "a = 2.0\n",
    "b = -3.0\n",
    "c = 10\n",
    "\n",
    "d1 = a*b + c\n",
    "a += h\n",
    "d2 = a*b + c\n",
    "\n",
    "print('d1', d1)\n",
    "print('d2', d2)\n",
    "print('slope', (d2 - d1)/h)"
   ]
  },
  {
   "cell_type": "markdown",
   "id": "50859b0e",
   "metadata": {},
   "source": [
    "- increasing c by h results in h/h -> 1\n",
    "- increasing a by h results in a negative slope, because a is increased and multiplied by negative\n",
    "- increasing b by h results in a positive slope, because b is increased(less of a negative number)\n",
    "\n",
    "This all tells us how much each number contirbutes to the outcome!"
   ]
  },
  {
   "cell_type": "code",
   "execution_count": 93,
   "id": "ecbbbca4",
   "metadata": {},
   "outputs": [],
   "source": [
    "class Value:\n",
    "  def __init__(self, data, _children=(), _op='', label=''):\n",
    "    self.data = data\n",
    "    self.grad = 0.0 # Init 0, means zero effect -> It dosent effect the output\n",
    "    self._backward = lambda: None\n",
    "    self._prev = set(_children)\n",
    "    self._op = _op\n",
    "    self.label = label\n",
    "\n",
    "  def __repr__(self):\n",
    "    return f\"Value(data={self.data})\"\n",
    "\n",
    "  def __add__(self, other):\n",
    "    out = Value(self.data + other.data, (self, other), '+')\n",
    "\n",
    "    def _backward():\n",
    "      self.grad = 1.0 * out.grad\n",
    "      other.grad = 1.0 * out.grad\n",
    "\n",
    "    out._backward = _backward\n",
    "\n",
    "    return out\n",
    "\n",
    "  def __mul__(self, other):\n",
    "    out = Value(self.data * other.data, (self, other), '*')\n",
    "\n",
    "    def _backward():\n",
    "      self.grad = other.data * out.grad\n",
    "      other.grad = self.data * out.grad\n",
    "    out._backward = _backward\n",
    "\n",
    "    return out\n",
    "\n",
    "  def tanh(self):\n",
    "    x = self.data\n",
    "    t = (math.exp(2*x) - 1)/(math.exp(2*x) + 1)\n",
    "    out = Value(t, (self, ), 'tanh')\n",
    "\n",
    "    def _backward():\n",
    "      self.grad = (1 - t ** 2) * out.grad\n",
    "    out._backward = _backward\n",
    "\n",
    "    return out\n",
    "\n",
    "  def backward(self):\n",
    "\n",
    "    topo = []\n",
    "    visited = set()\n",
    "    def build_topo(v):\n",
    "        if v not in visited:\n",
    "          visited.add(v)\n",
    "          for child in v._prev:\n",
    "            build_topo(child)\n",
    "          topo.append(v)\n",
    "\n",
    "    build_topo(self)\n",
    "\n",
    "    self.grad = 1.0\n",
    "    for node in reversed(topo):\n",
    "      node._backward()"
   ]
  },
  {
   "cell_type": "code",
   "execution_count": 76,
   "id": "b78043af",
   "metadata": {},
   "outputs": [
    {
     "data": {
      "text/plain": [
       "Value(data=-8.0)"
      ]
     },
     "execution_count": 76,
     "metadata": {},
     "output_type": "execute_result"
    }
   ],
   "source": [
    "a = Value(2.0, label='a')\n",
    "b = Value(-3.0, label='b')\n",
    "c = Value(10.0, label='c')\n",
    "e = a*b; e.label = 'e'\n",
    "d = e + c; d.label = 'd'\n",
    "f = Value(-2.0, label='f')\n",
    "L = d * f; L.label = 'L'\n",
    "L"
   ]
  },
  {
   "cell_type": "markdown",
   "id": "f6fa9c6f",
   "metadata": {},
   "source": [
    "- Backward pass will be the deriviate of L in respect to each Value object."
   ]
  },
  {
   "cell_type": "code",
   "execution_count": 77,
   "id": "abe01760",
   "metadata": {},
   "outputs": [],
   "source": [
    "from graphviz import Digraph\n",
    "\n",
    "def trace(root):\n",
    "  # builds a set of all nodes and edges in a graph\n",
    "  nodes, edges = set(), set()\n",
    "  def build(v):\n",
    "    if v not in nodes:\n",
    "      nodes.add(v)\n",
    "      for child in v._prev:\n",
    "        edges.add((child, v))\n",
    "        build(child)\n",
    "  build(root)\n",
    "  return nodes, edges\n",
    "\n",
    "def draw_dot(root):\n",
    "  dot = Digraph(format='svg', graph_attr={'rankdir': 'LR'}) # LR = left to right\n",
    "\n",
    "  nodes, edges = trace(root)\n",
    "  for n in nodes:\n",
    "    uid = str(id(n))\n",
    "    # for any value in the graph, create a rectangular ('record') node for it\n",
    "    dot.node(name = uid, label = \"{ %s | data %.4f | grad %.4f }\" % (n.label, n.data, n.grad), shape='record')\n",
    "    if n._op:\n",
    "      # if this value is a result of some operation, create an op node for it\n",
    "      dot.node(name = uid + n._op, label = n._op)\n",
    "      # and connect this node to it\n",
    "      dot.edge(uid + n._op, uid)\n",
    "\n",
    "  for n1, n2 in edges:\n",
    "    # connect n1 to the op node of n2\n",
    "    dot.edge(str(id(n1)), str(id(n2)) + n2._op)\n",
    "\n",
    "  return dot"
   ]
  },
  {
   "cell_type": "code",
   "execution_count": 78,
   "id": "a8ca9127",
   "metadata": {},
   "outputs": [
    {
     "data": {
      "image/svg+xml": [
       "<?xml version=\"1.0\" encoding=\"UTF-8\" standalone=\"no\"?>\n",
       "<!DOCTYPE svg PUBLIC \"-//W3C//DTD SVG 1.1//EN\"\n",
       " \"http://www.w3.org/Graphics/SVG/1.1/DTD/svg11.dtd\">\n",
       "<!-- Generated by graphviz version 2.50.0 (0)\n",
       " -->\n",
       "<!-- Pages: 1 -->\n",
       "<svg width=\"1332pt\" height=\"154pt\"\n",
       " viewBox=\"0.00 0.00 1332.00 154.00\" xmlns=\"http://www.w3.org/2000/svg\" xmlns:xlink=\"http://www.w3.org/1999/xlink\">\n",
       "<g id=\"graph0\" class=\"graph\" transform=\"scale(1 1) rotate(0) translate(4 150)\">\n",
       "<polygon fill=\"white\" stroke=\"transparent\" points=\"-4,4 -4,-150 1328,-150 1328,4 -4,4\"/>\n",
       "<!-- 125970241830416 -->\n",
       "<g id=\"node1\" class=\"node\">\n",
       "<title>125970241830416</title>\n",
       "<polygon fill=\"none\" stroke=\"black\" points=\"728.5,-54.5 728.5,-90.5 960.5,-90.5 960.5,-54.5 728.5,-54.5\"/>\n",
       "<text text-anchor=\"middle\" x=\"741.5\" y=\"-68.8\" font-family=\"Times,serif\" font-size=\"14.00\">d</text>\n",
       "<polyline fill=\"none\" stroke=\"black\" points=\"754.5,-54.5 754.5,-90.5 \"/>\n",
       "<text text-anchor=\"middle\" x=\"805.5\" y=\"-68.8\" font-family=\"Times,serif\" font-size=\"14.00\">data 4.0000</text>\n",
       "<polyline fill=\"none\" stroke=\"black\" points=\"856.5,-54.5 856.5,-90.5 \"/>\n",
       "<text text-anchor=\"middle\" x=\"908.5\" y=\"-68.8\" font-family=\"Times,serif\" font-size=\"14.00\">grad 0.0000</text>\n",
       "</g>\n",
       "<!-- 125970243563824* -->\n",
       "<g id=\"node8\" class=\"node\">\n",
       "<title>125970243563824*</title>\n",
       "<ellipse fill=\"none\" stroke=\"black\" cx=\"1024\" cy=\"-99.5\" rx=\"27\" ry=\"18\"/>\n",
       "<text text-anchor=\"middle\" x=\"1024\" y=\"-95.8\" font-family=\"Times,serif\" font-size=\"14.00\">*</text>\n",
       "</g>\n",
       "<!-- 125970241830416&#45;&gt;125970243563824* -->\n",
       "<g id=\"edge4\" class=\"edge\">\n",
       "<title>125970241830416&#45;&gt;125970243563824*</title>\n",
       "<path fill=\"none\" stroke=\"black\" d=\"M960.92,-90.06C970.4,-91.5 979.44,-92.87 987.54,-94.11\"/>\n",
       "<polygon fill=\"black\" stroke=\"black\" points=\"987.19,-97.59 997.6,-95.64 988.24,-90.67 987.19,-97.59\"/>\n",
       "</g>\n",
       "<!-- 125970241830416+ -->\n",
       "<g id=\"node2\" class=\"node\">\n",
       "<title>125970241830416+</title>\n",
       "<ellipse fill=\"none\" stroke=\"black\" cx=\"665\" cy=\"-72.5\" rx=\"27\" ry=\"18\"/>\n",
       "<text text-anchor=\"middle\" x=\"665\" y=\"-68.8\" font-family=\"Times,serif\" font-size=\"14.00\">+</text>\n",
       "</g>\n",
       "<!-- 125970241830416+&#45;&gt;125970241830416 -->\n",
       "<g id=\"edge1\" class=\"edge\">\n",
       "<title>125970241830416+&#45;&gt;125970241830416</title>\n",
       "<path fill=\"none\" stroke=\"black\" d=\"M692.19,-72.5C699.78,-72.5 708.61,-72.5 718.11,-72.5\"/>\n",
       "<polygon fill=\"black\" stroke=\"black\" points=\"718.24,-76 728.24,-72.5 718.24,-69 718.24,-76\"/>\n",
       "</g>\n",
       "<!-- 125970218055184 -->\n",
       "<g id=\"node3\" class=\"node\">\n",
       "<title>125970218055184</title>\n",
       "<polygon fill=\"none\" stroke=\"black\" points=\"363,-82.5 363,-118.5 602,-118.5 602,-82.5 363,-82.5\"/>\n",
       "<text text-anchor=\"middle\" x=\"375\" y=\"-96.8\" font-family=\"Times,serif\" font-size=\"14.00\">c</text>\n",
       "<polyline fill=\"none\" stroke=\"black\" points=\"387,-82.5 387,-118.5 \"/>\n",
       "<text text-anchor=\"middle\" x=\"442.5\" y=\"-96.8\" font-family=\"Times,serif\" font-size=\"14.00\">data 10.0000</text>\n",
       "<polyline fill=\"none\" stroke=\"black\" points=\"498,-82.5 498,-118.5 \"/>\n",
       "<text text-anchor=\"middle\" x=\"550\" y=\"-96.8\" font-family=\"Times,serif\" font-size=\"14.00\">grad 0.0000</text>\n",
       "</g>\n",
       "<!-- 125970218055184&#45;&gt;125970241830416+ -->\n",
       "<g id=\"edge7\" class=\"edge\">\n",
       "<title>125970218055184&#45;&gt;125970241830416+</title>\n",
       "<path fill=\"none\" stroke=\"black\" d=\"M599.6,-82.49C609.91,-80.89 619.74,-79.37 628.46,-78.01\"/>\n",
       "<polygon fill=\"black\" stroke=\"black\" points=\"629.18,-81.44 638.52,-76.45 628.1,-74.53 629.18,-81.44\"/>\n",
       "</g>\n",
       "<!-- 125970218054864 -->\n",
       "<g id=\"node4\" class=\"node\">\n",
       "<title>125970218054864</title>\n",
       "<polygon fill=\"none\" stroke=\"black\" points=\"0,-55.5 0,-91.5 237,-91.5 237,-55.5 0,-55.5\"/>\n",
       "<text text-anchor=\"middle\" x=\"13\" y=\"-69.8\" font-family=\"Times,serif\" font-size=\"14.00\">b</text>\n",
       "<polyline fill=\"none\" stroke=\"black\" points=\"26,-55.5 26,-91.5 \"/>\n",
       "<text text-anchor=\"middle\" x=\"79.5\" y=\"-69.8\" font-family=\"Times,serif\" font-size=\"14.00\">data &#45;3.0000</text>\n",
       "<polyline fill=\"none\" stroke=\"black\" points=\"133,-55.5 133,-91.5 \"/>\n",
       "<text text-anchor=\"middle\" x=\"185\" y=\"-69.8\" font-family=\"Times,serif\" font-size=\"14.00\">grad 0.0000</text>\n",
       "</g>\n",
       "<!-- 125970241830112* -->\n",
       "<g id=\"node6\" class=\"node\">\n",
       "<title>125970241830112*</title>\n",
       "<ellipse fill=\"none\" stroke=\"black\" cx=\"300\" cy=\"-45.5\" rx=\"27\" ry=\"18\"/>\n",
       "<text text-anchor=\"middle\" x=\"300\" y=\"-41.8\" font-family=\"Times,serif\" font-size=\"14.00\">*</text>\n",
       "</g>\n",
       "<!-- 125970218054864&#45;&gt;125970241830112* -->\n",
       "<g id=\"edge5\" class=\"edge\">\n",
       "<title>125970218054864&#45;&gt;125970241830112*</title>\n",
       "<path fill=\"none\" stroke=\"black\" d=\"M234.96,-55.49C245.12,-53.91 254.8,-52.4 263.41,-51.05\"/>\n",
       "<polygon fill=\"black\" stroke=\"black\" points=\"264.02,-54.5 273.36,-49.5 262.94,-47.58 264.02,-54.5\"/>\n",
       "</g>\n",
       "<!-- 125970241830112 -->\n",
       "<g id=\"node5\" class=\"node\">\n",
       "<title>125970241830112</title>\n",
       "<polygon fill=\"none\" stroke=\"black\" points=\"364.5,-27.5 364.5,-63.5 600.5,-63.5 600.5,-27.5 364.5,-27.5\"/>\n",
       "<text text-anchor=\"middle\" x=\"377\" y=\"-41.8\" font-family=\"Times,serif\" font-size=\"14.00\">e</text>\n",
       "<polyline fill=\"none\" stroke=\"black\" points=\"389.5,-27.5 389.5,-63.5 \"/>\n",
       "<text text-anchor=\"middle\" x=\"443\" y=\"-41.8\" font-family=\"Times,serif\" font-size=\"14.00\">data &#45;6.0000</text>\n",
       "<polyline fill=\"none\" stroke=\"black\" points=\"496.5,-27.5 496.5,-63.5 \"/>\n",
       "<text text-anchor=\"middle\" x=\"548.5\" y=\"-41.8\" font-family=\"Times,serif\" font-size=\"14.00\">grad 0.0000</text>\n",
       "</g>\n",
       "<!-- 125970241830112&#45;&gt;125970241830416+ -->\n",
       "<g id=\"edge8\" class=\"edge\">\n",
       "<title>125970241830112&#45;&gt;125970241830416+</title>\n",
       "<path fill=\"none\" stroke=\"black\" d=\"M600.62,-63.02C610.5,-64.5 619.9,-65.9 628.3,-67.16\"/>\n",
       "<polygon fill=\"black\" stroke=\"black\" points=\"627.95,-70.65 638.36,-68.66 628.99,-63.72 627.95,-70.65\"/>\n",
       "</g>\n",
       "<!-- 125970241830112*&#45;&gt;125970241830112 -->\n",
       "<g id=\"edge2\" class=\"edge\">\n",
       "<title>125970241830112*&#45;&gt;125970241830112</title>\n",
       "<path fill=\"none\" stroke=\"black\" d=\"M327.25,-45.5C335.09,-45.5 344.27,-45.5 354.17,-45.5\"/>\n",
       "<polygon fill=\"black\" stroke=\"black\" points=\"354.28,-49 364.28,-45.5 354.28,-42 354.28,-49\"/>\n",
       "</g>\n",
       "<!-- 125970243563824 -->\n",
       "<g id=\"node7\" class=\"node\">\n",
       "<title>125970243563824</title>\n",
       "<polygon fill=\"none\" stroke=\"black\" points=\"1087,-81.5 1087,-117.5 1324,-117.5 1324,-81.5 1087,-81.5\"/>\n",
       "<text text-anchor=\"middle\" x=\"1100\" y=\"-95.8\" font-family=\"Times,serif\" font-size=\"14.00\">L</text>\n",
       "<polyline fill=\"none\" stroke=\"black\" points=\"1113,-81.5 1113,-117.5 \"/>\n",
       "<text text-anchor=\"middle\" x=\"1166.5\" y=\"-95.8\" font-family=\"Times,serif\" font-size=\"14.00\">data &#45;8.0000</text>\n",
       "<polyline fill=\"none\" stroke=\"black\" points=\"1220,-81.5 1220,-117.5 \"/>\n",
       "<text text-anchor=\"middle\" x=\"1272\" y=\"-95.8\" font-family=\"Times,serif\" font-size=\"14.00\">grad 0.0000</text>\n",
       "</g>\n",
       "<!-- 125970243563824*&#45;&gt;125970243563824 -->\n",
       "<g id=\"edge3\" class=\"edge\">\n",
       "<title>125970243563824*&#45;&gt;125970243563824</title>\n",
       "<path fill=\"none\" stroke=\"black\" d=\"M1051.1,-99.5C1058.61,-99.5 1067.33,-99.5 1076.75,-99.5\"/>\n",
       "<polygon fill=\"black\" stroke=\"black\" points=\"1076.78,-103 1086.78,-99.5 1076.78,-96 1076.78,-103\"/>\n",
       "</g>\n",
       "<!-- 125970242021296 -->\n",
       "<g id=\"node9\" class=\"node\">\n",
       "<title>125970242021296</title>\n",
       "<polygon fill=\"none\" stroke=\"black\" points=\"3,-0.5 3,-36.5 234,-36.5 234,-0.5 3,-0.5\"/>\n",
       "<text text-anchor=\"middle\" x=\"15.5\" y=\"-14.8\" font-family=\"Times,serif\" font-size=\"14.00\">a</text>\n",
       "<polyline fill=\"none\" stroke=\"black\" points=\"28,-0.5 28,-36.5 \"/>\n",
       "<text text-anchor=\"middle\" x=\"79\" y=\"-14.8\" font-family=\"Times,serif\" font-size=\"14.00\">data 2.0000</text>\n",
       "<polyline fill=\"none\" stroke=\"black\" points=\"130,-0.5 130,-36.5 \"/>\n",
       "<text text-anchor=\"middle\" x=\"182\" y=\"-14.8\" font-family=\"Times,serif\" font-size=\"14.00\">grad 0.0000</text>\n",
       "</g>\n",
       "<!-- 125970242021296&#45;&gt;125970241830112* -->\n",
       "<g id=\"edge6\" class=\"edge\">\n",
       "<title>125970242021296&#45;&gt;125970241830112*</title>\n",
       "<path fill=\"none\" stroke=\"black\" d=\"M234.2,-35.75C244.55,-37.31 254.43,-38.8 263.21,-40.12\"/>\n",
       "<polygon fill=\"black\" stroke=\"black\" points=\"262.92,-43.61 273.33,-41.64 263.96,-36.69 262.92,-43.61\"/>\n",
       "</g>\n",
       "<!-- 125970231409648 -->\n",
       "<g id=\"node10\" class=\"node\">\n",
       "<title>125970231409648</title>\n",
       "<polygon fill=\"none\" stroke=\"black\" points=\"728,-109.5 728,-145.5 961,-145.5 961,-109.5 728,-109.5\"/>\n",
       "<text text-anchor=\"middle\" x=\"739\" y=\"-123.8\" font-family=\"Times,serif\" font-size=\"14.00\">f</text>\n",
       "<polyline fill=\"none\" stroke=\"black\" points=\"750,-109.5 750,-145.5 \"/>\n",
       "<text text-anchor=\"middle\" x=\"803.5\" y=\"-123.8\" font-family=\"Times,serif\" font-size=\"14.00\">data &#45;2.0000</text>\n",
       "<polyline fill=\"none\" stroke=\"black\" points=\"857,-109.5 857,-145.5 \"/>\n",
       "<text text-anchor=\"middle\" x=\"909\" y=\"-123.8\" font-family=\"Times,serif\" font-size=\"14.00\">grad 0.0000</text>\n",
       "</g>\n",
       "<!-- 125970231409648&#45;&gt;125970243563824* -->\n",
       "<g id=\"edge9\" class=\"edge\">\n",
       "<title>125970231409648&#45;&gt;125970243563824*</title>\n",
       "<path fill=\"none\" stroke=\"black\" d=\"M959.67,-109.49C969.61,-107.92 979.08,-106.43 987.53,-105.1\"/>\n",
       "<polygon fill=\"black\" stroke=\"black\" points=\"988.31,-108.52 997.64,-103.5 987.22,-101.6 988.31,-108.52\"/>\n",
       "</g>\n",
       "</g>\n",
       "</svg>\n"
      ],
      "text/plain": [
       "<graphviz.graphs.Digraph at 0x7291ba2b65b0>"
      ]
     },
     "execution_count": 78,
     "metadata": {},
     "output_type": "execute_result"
    }
   ],
   "source": [
    "draw_dot(L)\n"
   ]
  },
  {
   "cell_type": "code",
   "execution_count": 79,
   "id": "b814242a",
   "metadata": {},
   "outputs": [],
   "source": [
    "L.grad = 1.0\n",
    "d.grad = -2.0\n",
    "f.grad = 4.0\n",
    "c.grad = -2.0\n",
    "e.grad = -2.0\n",
    "a.grad = 6.0\n",
    "b.grad = -4.0"
   ]
  },
  {
   "cell_type": "markdown",
   "id": "ee663f31",
   "metadata": {},
   "source": [
    "- Calculating the gradient for each Value\n",
    "\"How much does L change in terms of: a,b,c,d,e,f\"\n",
    "\n",
    "- L = d * f\n",
    "--> dL/dd = f\n",
    "\n",
    "Proof: \n",
    "1. (f(x + h) - f(x)) / h\n",
    "2. ((d+h)*f - d*f) / h\n",
    "3. (df + fh - df) /h\n",
    "4. fh / h\n",
    "5. f\n",
    "\n",
    "- Chainrule\n",
    "dL/dc  How is L effected by c? But we have d in the middle of it?\n",
    "dd/dc How is d effected by c?\n",
    "\n",
    "1. ((c+h) + e - c + e) / h\n",
    "2. h/h \n",
    "3. 1\n",
    "\n",
    "WANT: \n",
    "dL/dc\n",
    "\n",
    "KNOW:\n",
    "dl/dd -> -2.0\n",
    "dd/dc -> 1.0\n",
    "\n",
    "-2.0 * 1.0 -> -2.0\n"
   ]
  },
  {
   "cell_type": "code",
   "execution_count": 80,
   "id": "162e7ccf",
   "metadata": {},
   "outputs": [
    {
     "data": {
      "text/plain": [
       "Value(data=-7.286496)"
      ]
     },
     "execution_count": 80,
     "metadata": {},
     "output_type": "execute_result"
    }
   ],
   "source": [
    "# Increase the leaf nodes in respect to the grads\n",
    "a.data += a.grad * 0.01\n",
    "b.data += b.grad * 0.01\n",
    "c.data += c.grad * 0.01\n",
    "f.data += f.grad * 0.01\n",
    "\n",
    "# rerun the forward pass\n",
    "e = a*b; e.label = 'e'\n",
    "d = e + c; d.label = 'd'\n",
    "L = d * f; L.label = 'L'\n",
    "L"
   ]
  },
  {
   "cell_type": "code",
   "execution_count": 81,
   "id": "f6b0301d",
   "metadata": {},
   "outputs": [
    {
     "name": "stdout",
     "output_type": "stream",
     "text": [
      "0.0\n"
     ]
    }
   ],
   "source": [
    "def lol():\n",
    "\n",
    "  h = 0.001\n",
    "\n",
    "  a = Value(2.0, label='a')\n",
    "  b = Value(-3.0, label='b')\n",
    "  c = Value(10.0, label='c')\n",
    "  e = a*b; e.label = 'e'\n",
    "  d = e + c; d.label = 'd'\n",
    "  f = Value(-2.0, label='f')\n",
    "  L = d * f; L.label = 'L'\n",
    "  L1 = L.data\n",
    "\n",
    "  a = Value(2.0, label='a')\n",
    "  b = Value(-3.0, label='b')\n",
    "  c = Value(10.0, label='c')\n",
    "  e = a*b; e.label = 'e'\n",
    "  d = e + c; d.label = 'd'\n",
    "  f = Value(-2.0, label='f')\n",
    "  L = d * f; L.label = 'L'\n",
    "  L2 = L.data\n",
    "\n",
    "  print((L2 - L1)/h)\n",
    "\n",
    "lol()"
   ]
  },
  {
   "cell_type": "code",
   "execution_count": 82,
   "id": "10f025e1",
   "metadata": {},
   "outputs": [
    {
     "data": {
      "image/png": "[encoded data removed]",
      "text/plain": [
       "<Figure size 640x480 with 1 Axes>"
      ]
     },
     "metadata": {},
     "output_type": "display_data"
    }
   ],
   "source": [
    "plt.plot(np.arange(-5,5,0.2), np.tanh(np.arange(-5,5,0.2))); plt.grid();\n",
    "plt.show()"
   ]
  },
  {
   "cell_type": "code",
   "execution_count": 83,
   "id": "74d4c11d",
   "metadata": {},
   "outputs": [],
   "source": [
    "# inputs x1,x2\n",
    "x1 = Value(2.0, label='x1')\n",
    "x2 = Value(0.0, label='x2')\n",
    "# weights w1,w2\n",
    "w1 = Value(-3.0, label='w1')\n",
    "w2 = Value(1.0, label='w2')\n",
    "# bias of the neuron\n",
    "b = Value(6.8813735870195432, label='b')\n",
    "# x1*w1 + x2*w2 + b\n",
    "x1w1 = x1*w1; x1w1.label = 'x1*w1'\n",
    "x2w2 = x2*w2; x2w2.label = 'x2*w2'\n",
    "x1w1x2w2 = x1w1 + x2w2; x1w1x2w2.label = 'x1*w1 + x2*w2'\n",
    "n = x1w1x2w2 + b; n.label = 'n'\n",
    "o = n.tanh(); o.label = 'o'"
   ]
  },
  {
   "cell_type": "code",
   "execution_count": 92,
   "id": "7783160b",
   "metadata": {},
   "outputs": [
    {
     "data": {
      "image/svg+xml": [
       "<?xml version=\"1.0\" encoding=\"UTF-8\" standalone=\"no\"?>\n",
       "<!DOCTYPE svg PUBLIC \"-//W3C//DTD SVG 1.1//EN\"\n",
       " \"http://www.w3.org/Graphics/SVG/1.1/DTD/svg11.dtd\">\n",
       "<!-- Generated by graphviz version 2.50.0 (0)\n",
       " -->\n",
       "<!-- Pages: 1 -->\n",
       "<svg width=\"1846pt\" height=\"210pt\"\n",
       " viewBox=\"0.00 0.00 1845.69 210.00\" xmlns=\"http://www.w3.org/2000/svg\" xmlns:xlink=\"http://www.w3.org/1999/xlink\">\n",
       "<g id=\"graph0\" class=\"graph\" transform=\"scale(1 1) rotate(0) translate(4 206)\">\n",
       "<polygon fill=\"white\" stroke=\"transparent\" points=\"-4,4 -4,-206 1841.69,-206 1841.69,4 -4,4\"/>\n",
       "<!-- 125970216755152 -->\n",
       "<g id=\"node1\" class=\"node\">\n",
       "<title>125970216755152</title>\n",
       "<polygon fill=\"none\" stroke=\"black\" points=\"2.5,-165.5 2.5,-201.5 246.5,-201.5 246.5,-165.5 2.5,-165.5\"/>\n",
       "<text text-anchor=\"middle\" x=\"21.5\" y=\"-179.8\" font-family=\"Times,serif\" font-size=\"14.00\">w2</text>\n",
       "<polyline fill=\"none\" stroke=\"black\" points=\"40.5,-165.5 40.5,-201.5 \"/>\n",
       "<text text-anchor=\"middle\" x=\"91.5\" y=\"-179.8\" font-family=\"Times,serif\" font-size=\"14.00\">data 1.0000</text>\n",
       "<polyline fill=\"none\" stroke=\"black\" points=\"142.5,-165.5 142.5,-201.5 \"/>\n",
       "<text text-anchor=\"middle\" x=\"194.5\" y=\"-179.8\" font-family=\"Times,serif\" font-size=\"14.00\">grad 0.0000</text>\n",
       "</g>\n",
       "<!-- 125970218325456* -->\n",
       "<g id=\"node13\" class=\"node\">\n",
       "<title>125970218325456*</title>\n",
       "<ellipse fill=\"none\" stroke=\"black\" cx=\"312\" cy=\"-128.5\" rx=\"27\" ry=\"18\"/>\n",
       "<text text-anchor=\"middle\" x=\"312\" y=\"-124.8\" font-family=\"Times,serif\" font-size=\"14.00\">*</text>\n",
       "</g>\n",
       "<!-- 125970216755152&#45;&gt;125970218325456* -->\n",
       "<g id=\"edge7\" class=\"edge\">\n",
       "<title>125970216755152&#45;&gt;125970218325456*</title>\n",
       "<path fill=\"none\" stroke=\"black\" d=\"M218.13,-165.46C228.63,-162.77 239.1,-159.78 249,-156.5 259.71,-152.96 271.05,-148.16 281.07,-143.54\"/>\n",
       "<polygon fill=\"black\" stroke=\"black\" points=\"282.67,-146.66 290.2,-139.21 279.67,-140.33 282.67,-146.66\"/>\n",
       "</g>\n",
       "<!-- 125970218327120 -->\n",
       "<g id=\"node2\" class=\"node\">\n",
       "<title>125970218327120</title>\n",
       "<polygon fill=\"none\" stroke=\"black\" points=\"1606.69,-54.5 1606.69,-90.5 1837.69,-90.5 1837.69,-54.5 1606.69,-54.5\"/>\n",
       "<text text-anchor=\"middle\" x=\"1619.19\" y=\"-68.8\" font-family=\"Times,serif\" font-size=\"14.00\">o</text>\n",
       "<polyline fill=\"none\" stroke=\"black\" points=\"1631.69,-54.5 1631.69,-90.5 \"/>\n",
       "<text text-anchor=\"middle\" x=\"1682.69\" y=\"-68.8\" font-family=\"Times,serif\" font-size=\"14.00\">data 0.7071</text>\n",
       "<polyline fill=\"none\" stroke=\"black\" points=\"1733.69,-54.5 1733.69,-90.5 \"/>\n",
       "<text text-anchor=\"middle\" x=\"1785.69\" y=\"-68.8\" font-family=\"Times,serif\" font-size=\"14.00\">grad 1.0000</text>\n",
       "</g>\n",
       "<!-- 125970218327120tanh -->\n",
       "<g id=\"node3\" class=\"node\">\n",
       "<title>125970218327120tanh</title>\n",
       "<ellipse fill=\"none\" stroke=\"black\" cx=\"1538.85\" cy=\"-72.5\" rx=\"31.7\" ry=\"18\"/>\n",
       "<text text-anchor=\"middle\" x=\"1538.85\" y=\"-68.8\" font-family=\"Times,serif\" font-size=\"14.00\">tanh</text>\n",
       "</g>\n",
       "<!-- 125970218327120tanh&#45;&gt;125970218327120 -->\n",
       "<g id=\"edge1\" class=\"edge\">\n",
       "<title>125970218327120tanh&#45;&gt;125970218327120</title>\n",
       "<path fill=\"none\" stroke=\"black\" d=\"M1571.02,-72.5C1578.61,-72.5 1587.19,-72.5 1596.31,-72.5\"/>\n",
       "<polygon fill=\"black\" stroke=\"black\" points=\"1596.4,-76 1606.4,-72.5 1596.4,-69 1596.4,-76\"/>\n",
       "</g>\n",
       "<!-- 125970218326608 -->\n",
       "<g id=\"node4\" class=\"node\">\n",
       "<title>125970218326608</title>\n",
       "<polygon fill=\"none\" stroke=\"black\" points=\"774,-82.5 774,-118.5 1113,-118.5 1113,-82.5 774,-82.5\"/>\n",
       "<text text-anchor=\"middle\" x=\"838\" y=\"-96.8\" font-family=\"Times,serif\" font-size=\"14.00\">x1*w1 + x2*w2</text>\n",
       "<polyline fill=\"none\" stroke=\"black\" points=\"902,-82.5 902,-118.5 \"/>\n",
       "<text text-anchor=\"middle\" x=\"955.5\" y=\"-96.8\" font-family=\"Times,serif\" font-size=\"14.00\">data &#45;6.0000</text>\n",
       "<polyline fill=\"none\" stroke=\"black\" points=\"1009,-82.5 1009,-118.5 \"/>\n",
       "<text text-anchor=\"middle\" x=\"1061\" y=\"-96.8\" font-family=\"Times,serif\" font-size=\"14.00\">grad 0.5000</text>\n",
       "</g>\n",
       "<!-- 125970218327504+ -->\n",
       "<g id=\"node15\" class=\"node\">\n",
       "<title>125970218327504+</title>\n",
       "<ellipse fill=\"none\" stroke=\"black\" cx=\"1176\" cy=\"-72.5\" rx=\"27\" ry=\"18\"/>\n",
       "<text text-anchor=\"middle\" x=\"1176\" y=\"-68.8\" font-family=\"Times,serif\" font-size=\"14.00\">+</text>\n",
       "</g>\n",
       "<!-- 125970218326608&#45;&gt;125970218327504+ -->\n",
       "<g id=\"edge13\" class=\"edge\">\n",
       "<title>125970218326608&#45;&gt;125970218327504+</title>\n",
       "<path fill=\"none\" stroke=\"black\" d=\"M1092.76,-82.49C1109.86,-80.41 1125.9,-78.46 1139.2,-76.85\"/>\n",
       "<polygon fill=\"black\" stroke=\"black\" points=\"1139.74,-80.31 1149.24,-75.63 1138.89,-73.36 1139.74,-80.31\"/>\n",
       "</g>\n",
       "<!-- 125970218326608+ -->\n",
       "<g id=\"node5\" class=\"node\">\n",
       "<title>125970218326608+</title>\n",
       "<ellipse fill=\"none\" stroke=\"black\" cx=\"711\" cy=\"-100.5\" rx=\"27\" ry=\"18\"/>\n",
       "<text text-anchor=\"middle\" x=\"711\" y=\"-96.8\" font-family=\"Times,serif\" font-size=\"14.00\">+</text>\n",
       "</g>\n",
       "<!-- 125970218326608+&#45;&gt;125970218326608 -->\n",
       "<g id=\"edge2\" class=\"edge\">\n",
       "<title>125970218326608+&#45;&gt;125970218326608</title>\n",
       "<path fill=\"none\" stroke=\"black\" d=\"M738.44,-100.5C745.81,-100.5 754.42,-100.5 763.84,-100.5\"/>\n",
       "<polygon fill=\"black\" stroke=\"black\" points=\"763.94,-104 773.94,-100.5 763.94,-97 763.94,-104\"/>\n",
       "</g>\n",
       "<!-- 125970216748112 -->\n",
       "<g id=\"node6\" class=\"node\">\n",
       "<title>125970216748112</title>\n",
       "<polygon fill=\"none\" stroke=\"black\" points=\"375,-55.5 375,-91.5 648,-91.5 648,-55.5 375,-55.5\"/>\n",
       "<text text-anchor=\"middle\" x=\"406\" y=\"-69.8\" font-family=\"Times,serif\" font-size=\"14.00\">x1*w1</text>\n",
       "<polyline fill=\"none\" stroke=\"black\" points=\"437,-55.5 437,-91.5 \"/>\n",
       "<text text-anchor=\"middle\" x=\"490.5\" y=\"-69.8\" font-family=\"Times,serif\" font-size=\"14.00\">data &#45;6.0000</text>\n",
       "<polyline fill=\"none\" stroke=\"black\" points=\"544,-55.5 544,-91.5 \"/>\n",
       "<text text-anchor=\"middle\" x=\"596\" y=\"-69.8\" font-family=\"Times,serif\" font-size=\"14.00\">grad 0.5000</text>\n",
       "</g>\n",
       "<!-- 125970216748112&#45;&gt;125970218326608+ -->\n",
       "<g id=\"edge6\" class=\"edge\">\n",
       "<title>125970216748112&#45;&gt;125970218326608+</title>\n",
       "<path fill=\"none\" stroke=\"black\" d=\"M644.24,-91.51C655.12,-93 665.4,-94.4 674.45,-95.64\"/>\n",
       "<polygon fill=\"black\" stroke=\"black\" points=\"674.11,-99.13 684.49,-97.01 675.05,-92.19 674.11,-99.13\"/>\n",
       "</g>\n",
       "<!-- 125970216748112* -->\n",
       "<g id=\"node7\" class=\"node\">\n",
       "<title>125970216748112*</title>\n",
       "<ellipse fill=\"none\" stroke=\"black\" cx=\"312\" cy=\"-73.5\" rx=\"27\" ry=\"18\"/>\n",
       "<text text-anchor=\"middle\" x=\"312\" y=\"-69.8\" font-family=\"Times,serif\" font-size=\"14.00\">*</text>\n",
       "</g>\n",
       "<!-- 125970216748112*&#45;&gt;125970216748112 -->\n",
       "<g id=\"edge3\" class=\"edge\">\n",
       "<title>125970216748112*&#45;&gt;125970216748112</title>\n",
       "<path fill=\"none\" stroke=\"black\" d=\"M339.23,-73.5C346.7,-73.5 355.41,-73.5 364.87,-73.5\"/>\n",
       "<polygon fill=\"black\" stroke=\"black\" points=\"364.98,-77 374.98,-73.5 364.98,-70 364.98,-77\"/>\n",
       "</g>\n",
       "<!-- 125970216761424 -->\n",
       "<g id=\"node8\" class=\"node\">\n",
       "<title>125970216761424</title>\n",
       "<polygon fill=\"none\" stroke=\"black\" points=\"0,-55.5 0,-91.5 249,-91.5 249,-55.5 0,-55.5\"/>\n",
       "<text text-anchor=\"middle\" x=\"19\" y=\"-69.8\" font-family=\"Times,serif\" font-size=\"14.00\">w1</text>\n",
       "<polyline fill=\"none\" stroke=\"black\" points=\"38,-55.5 38,-91.5 \"/>\n",
       "<text text-anchor=\"middle\" x=\"91.5\" y=\"-69.8\" font-family=\"Times,serif\" font-size=\"14.00\">data &#45;3.0000</text>\n",
       "<polyline fill=\"none\" stroke=\"black\" points=\"145,-55.5 145,-91.5 \"/>\n",
       "<text text-anchor=\"middle\" x=\"197\" y=\"-69.8\" font-family=\"Times,serif\" font-size=\"14.00\">grad 1.0000</text>\n",
       "</g>\n",
       "<!-- 125970216761424&#45;&gt;125970216748112* -->\n",
       "<g id=\"edge9\" class=\"edge\">\n",
       "<title>125970216761424&#45;&gt;125970216748112*</title>\n",
       "<path fill=\"none\" stroke=\"black\" d=\"M249.23,-73.5C258.37,-73.5 267.05,-73.5 274.87,-73.5\"/>\n",
       "<polygon fill=\"black\" stroke=\"black\" points=\"274.95,-77 284.95,-73.5 274.95,-70 274.95,-77\"/>\n",
       "</g>\n",
       "<!-- 125970216760272 -->\n",
       "<g id=\"node9\" class=\"node\">\n",
       "<title>125970216760272</title>\n",
       "<polygon fill=\"none\" stroke=\"black\" points=\"4.5,-110.5 4.5,-146.5 244.5,-146.5 244.5,-110.5 4.5,-110.5\"/>\n",
       "<text text-anchor=\"middle\" x=\"21.5\" y=\"-124.8\" font-family=\"Times,serif\" font-size=\"14.00\">x2</text>\n",
       "<polyline fill=\"none\" stroke=\"black\" points=\"38.5,-110.5 38.5,-146.5 \"/>\n",
       "<text text-anchor=\"middle\" x=\"89.5\" y=\"-124.8\" font-family=\"Times,serif\" font-size=\"14.00\">data 0.0000</text>\n",
       "<polyline fill=\"none\" stroke=\"black\" points=\"140.5,-110.5 140.5,-146.5 \"/>\n",
       "<text text-anchor=\"middle\" x=\"192.5\" y=\"-124.8\" font-family=\"Times,serif\" font-size=\"14.00\">grad 0.5000</text>\n",
       "</g>\n",
       "<!-- 125970216760272&#45;&gt;125970218325456* -->\n",
       "<g id=\"edge8\" class=\"edge\">\n",
       "<title>125970216760272&#45;&gt;125970218325456*</title>\n",
       "<path fill=\"none\" stroke=\"black\" d=\"M244.55,-128.5C255.31,-128.5 265.54,-128.5 274.62,-128.5\"/>\n",
       "<polygon fill=\"black\" stroke=\"black\" points=\"274.7,-132 284.7,-128.5 274.7,-125 274.7,-132\"/>\n",
       "</g>\n",
       "<!-- 125970216755024 -->\n",
       "<g id=\"node10\" class=\"node\">\n",
       "<title>125970216755024</title>\n",
       "<polygon fill=\"none\" stroke=\"black\" points=\"827.5,-27.5 827.5,-63.5 1059.5,-63.5 1059.5,-27.5 827.5,-27.5\"/>\n",
       "<text text-anchor=\"middle\" x=\"840.5\" y=\"-41.8\" font-family=\"Times,serif\" font-size=\"14.00\">b</text>\n",
       "<polyline fill=\"none\" stroke=\"black\" points=\"853.5,-27.5 853.5,-63.5 \"/>\n",
       "<text text-anchor=\"middle\" x=\"904.5\" y=\"-41.8\" font-family=\"Times,serif\" font-size=\"14.00\">data 6.8814</text>\n",
       "<polyline fill=\"none\" stroke=\"black\" points=\"955.5,-27.5 955.5,-63.5 \"/>\n",
       "<text text-anchor=\"middle\" x=\"1007.5\" y=\"-41.8\" font-family=\"Times,serif\" font-size=\"14.00\">grad 0.5000</text>\n",
       "</g>\n",
       "<!-- 125970216755024&#45;&gt;125970218327504+ -->\n",
       "<g id=\"edge10\" class=\"edge\">\n",
       "<title>125970216755024&#45;&gt;125970218327504+</title>\n",
       "<path fill=\"none\" stroke=\"black\" d=\"M1059.75,-59C1088.57,-62.38 1117.4,-65.75 1139.01,-68.28\"/>\n",
       "<polygon fill=\"black\" stroke=\"black\" points=\"1138.67,-71.77 1149.01,-69.46 1139.48,-64.82 1138.67,-71.77\"/>\n",
       "</g>\n",
       "<!-- 125970217384784 -->\n",
       "<g id=\"node11\" class=\"node\">\n",
       "<title>125970217384784</title>\n",
       "<polygon fill=\"none\" stroke=\"black\" points=\"2.5,-0.5 2.5,-36.5 246.5,-36.5 246.5,-0.5 2.5,-0.5\"/>\n",
       "<text text-anchor=\"middle\" x=\"19.5\" y=\"-14.8\" font-family=\"Times,serif\" font-size=\"14.00\">x1</text>\n",
       "<polyline fill=\"none\" stroke=\"black\" points=\"36.5,-0.5 36.5,-36.5 \"/>\n",
       "<text text-anchor=\"middle\" x=\"87.5\" y=\"-14.8\" font-family=\"Times,serif\" font-size=\"14.00\">data 2.0000</text>\n",
       "<polyline fill=\"none\" stroke=\"black\" points=\"138.5,-0.5 138.5,-36.5 \"/>\n",
       "<text text-anchor=\"middle\" x=\"192.5\" y=\"-14.8\" font-family=\"Times,serif\" font-size=\"14.00\">grad &#45;1.5000</text>\n",
       "</g>\n",
       "<!-- 125970217384784&#45;&gt;125970216748112* -->\n",
       "<g id=\"edge12\" class=\"edge\">\n",
       "<title>125970217384784&#45;&gt;125970216748112*</title>\n",
       "<path fill=\"none\" stroke=\"black\" d=\"M214.42,-36.55C226.15,-39.54 237.93,-42.87 249,-46.5 259.46,-49.93 270.57,-54.47 280.46,-58.84\"/>\n",
       "<polygon fill=\"black\" stroke=\"black\" points=\"279.31,-62.17 289.87,-63.12 282.21,-55.79 279.31,-62.17\"/>\n",
       "</g>\n",
       "<!-- 125970218325456 -->\n",
       "<g id=\"node12\" class=\"node\">\n",
       "<title>125970218325456</title>\n",
       "<polygon fill=\"none\" stroke=\"black\" points=\"377.5,-110.5 377.5,-146.5 645.5,-146.5 645.5,-110.5 377.5,-110.5\"/>\n",
       "<text text-anchor=\"middle\" x=\"408.5\" y=\"-124.8\" font-family=\"Times,serif\" font-size=\"14.00\">x2*w2</text>\n",
       "<polyline fill=\"none\" stroke=\"black\" points=\"439.5,-110.5 439.5,-146.5 \"/>\n",
       "<text text-anchor=\"middle\" x=\"490.5\" y=\"-124.8\" font-family=\"Times,serif\" font-size=\"14.00\">data 0.0000</text>\n",
       "<polyline fill=\"none\" stroke=\"black\" points=\"541.5,-110.5 541.5,-146.5 \"/>\n",
       "<text text-anchor=\"middle\" x=\"593.5\" y=\"-124.8\" font-family=\"Times,serif\" font-size=\"14.00\">grad 0.5000</text>\n",
       "</g>\n",
       "<!-- 125970218325456&#45;&gt;125970218326608+ -->\n",
       "<g id=\"edge11\" class=\"edge\">\n",
       "<title>125970218325456&#45;&gt;125970218326608+</title>\n",
       "<path fill=\"none\" stroke=\"black\" d=\"M639.53,-110.49C652.09,-108.71 663.99,-107.02 674.3,-105.56\"/>\n",
       "<polygon fill=\"black\" stroke=\"black\" points=\"675.03,-108.99 684.44,-104.12 674.05,-102.06 675.03,-108.99\"/>\n",
       "</g>\n",
       "<!-- 125970218325456*&#45;&gt;125970218325456 -->\n",
       "<g id=\"edge4\" class=\"edge\">\n",
       "<title>125970218325456*&#45;&gt;125970218325456</title>\n",
       "<path fill=\"none\" stroke=\"black\" d=\"M339.23,-128.5C347.26,-128.5 356.72,-128.5 366.99,-128.5\"/>\n",
       "<polygon fill=\"black\" stroke=\"black\" points=\"367.08,-132 377.08,-128.5 367.08,-125 367.08,-132\"/>\n",
       "</g>\n",
       "<!-- 125970218327504 -->\n",
       "<g id=\"node14\" class=\"node\">\n",
       "<title>125970218327504</title>\n",
       "<polygon fill=\"none\" stroke=\"black\" points=\"1239,-54.5 1239,-90.5 1471,-90.5 1471,-54.5 1239,-54.5\"/>\n",
       "<text text-anchor=\"middle\" x=\"1252\" y=\"-68.8\" font-family=\"Times,serif\" font-size=\"14.00\">n</text>\n",
       "<polyline fill=\"none\" stroke=\"black\" points=\"1265,-54.5 1265,-90.5 \"/>\n",
       "<text text-anchor=\"middle\" x=\"1316\" y=\"-68.8\" font-family=\"Times,serif\" font-size=\"14.00\">data 0.8814</text>\n",
       "<polyline fill=\"none\" stroke=\"black\" points=\"1367,-54.5 1367,-90.5 \"/>\n",
       "<text text-anchor=\"middle\" x=\"1419\" y=\"-68.8\" font-family=\"Times,serif\" font-size=\"14.00\">grad 0.5000</text>\n",
       "</g>\n",
       "<!-- 125970218327504&#45;&gt;125970218327120tanh -->\n",
       "<g id=\"edge14\" class=\"edge\">\n",
       "<title>125970218327504&#45;&gt;125970218327120tanh</title>\n",
       "<path fill=\"none\" stroke=\"black\" d=\"M1471.17,-72.5C1480.08,-72.5 1488.66,-72.5 1496.53,-72.5\"/>\n",
       "<polygon fill=\"black\" stroke=\"black\" points=\"1496.78,-76 1506.78,-72.5 1496.78,-69 1496.78,-76\"/>\n",
       "</g>\n",
       "<!-- 125970218327504+&#45;&gt;125970218327504 -->\n",
       "<g id=\"edge5\" class=\"edge\">\n",
       "<title>125970218327504+&#45;&gt;125970218327504</title>\n",
       "<path fill=\"none\" stroke=\"black\" d=\"M1203.12,-72.5C1210.53,-72.5 1219.14,-72.5 1228.4,-72.5\"/>\n",
       "<polygon fill=\"black\" stroke=\"black\" points=\"1228.69,-76 1238.69,-72.5 1228.69,-69 1228.69,-76\"/>\n",
       "</g>\n",
       "</g>\n",
       "</svg>\n"
      ],
      "text/plain": [
       "<graphviz.graphs.Digraph at 0x7291ba07e2d0>"
      ]
     },
     "execution_count": 92,
     "metadata": {},
     "output_type": "execute_result"
    }
   ],
   "source": [
    "draw_dot(o)"
   ]
  },
  {
   "cell_type": "code",
   "execution_count": 85,
   "id": "b43c1c70",
   "metadata": {},
   "outputs": [],
   "source": [
    "o.grad = 1.0\n"
   ]
  },
  {
   "cell_type": "code",
   "execution_count": 86,
   "id": "0949dfda",
   "metadata": {},
   "outputs": [],
   "source": [
    "o._backward()"
   ]
  },
  {
   "cell_type": "code",
   "execution_count": 87,
   "id": "5d528081",
   "metadata": {},
   "outputs": [],
   "source": [
    "n._backward()"
   ]
  },
  {
   "cell_type": "code",
   "execution_count": 88,
   "id": "fe0d314b",
   "metadata": {},
   "outputs": [],
   "source": [
    "b._backward()"
   ]
  },
  {
   "cell_type": "code",
   "execution_count": 89,
   "id": "928b11d6",
   "metadata": {},
   "outputs": [],
   "source": [
    "x1w1x2w2._backward()"
   ]
  },
  {
   "cell_type": "code",
   "execution_count": 90,
   "id": "3f3cb2bc",
   "metadata": {},
   "outputs": [],
   "source": [
    "x2w2._backward()\n",
    "x1w1._backward()\n",
    "\n",
    "x1._backward()\n",
    "x2._backward()\n",
    "\n",
    "w1._backward()\n",
    "w2._backward()"
   ]
  },
  {
   "cell_type": "code",
   "execution_count": 91,
   "id": "9ccef598",
   "metadata": {},
   "outputs": [],
   "source": [
    "# o.grad = 1.0\n",
    "# n.grad = 1 - o.data ** 2\n",
    "# b.grad = 0.5\n",
    "\n",
    "# x1w1x2w2.grad = 0.5\n",
    "# x1w1.grad = 0.5\n",
    "# x2w2.grad = 0.5\n",
    "\n",
    "# x2.grad = x2w2.grad * w2.data\n",
    "# w2.grad = x2w2.grad * x2.data\n",
    "\n",
    "# x1.grad = x1w1.grad * w1.data\n",
    "# w1.grad = x1w1.grad * x1.data\n"
   ]
  },
  {
   "cell_type": "markdown",
   "id": "6c6134cb",
   "metadata": {},
   "source": [
    "do/do -> 1 \n",
    "do/dn -> 1 -  tanh(n)**2"
   ]
  }
 ],
 "metadata": {
  "kernelspec": {
   "display_name": "novigrad",
   "language": "python",
   "name": "python3"
  },
  "language_info": {
   "codemirror_mode": {
    "name": "ipython",
    "version": 3
   },
   "file_extension": ".py",
   "mimetype": "text/x-python",
   "name": "python",
   "nbconvert_exporter": "python",
   "pygments_lexer": "ipython3",
   "version": "3.13.2"
  }
 },
 "nbformat": 4,
 "nbformat_minor": 5
}
