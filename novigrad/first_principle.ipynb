{
 "cells": [
  {
   "cell_type": "code",
   "execution_count": 6,
   "id": "4cf9883d",
   "metadata": {},
   "outputs": [],
   "source": [
    "import math\n",
    "import numpy as np\n",
    "import matplotlib.pyplot as plt\n",
    "%matplotlib inline"
   ]
  },
  {
   "cell_type": "code",
   "execution_count": 3,
   "id": "6212ead7",
   "metadata": {},
   "outputs": [],
   "source": [
    "def func(x):\n",
    "  return 3*x**2 - 4*x"
   ]
  },
  {
   "cell_type": "code",
   "execution_count": 4,
   "id": "abf3b50e",
   "metadata": {},
   "outputs": [
    {
     "data": {
      "text/plain": [
       "32.0"
      ]
     },
     "execution_count": 4,
     "metadata": {},
     "output_type": "execute_result"
    }
   ],
   "source": [
    "func(4.0)"
   ]
  },
  {
   "cell_type": "code",
   "execution_count": 8,
   "id": "d63fb3bd",
   "metadata": {},
   "outputs": [
    {
     "data": {
      "image/png": "[encoded data removed]",
      "text/plain": [
       "<Figure size 640x480 with 1 Axes>"
      ]
     },
     "metadata": {},
     "output_type": "display_data"
    }
   ],
   "source": [
    "xs = np.arange(-5, 5, 0.25)\n",
    "ys = func(xs)\n",
    "plt.plot(xs, ys)\n",
    "plt.show()"
   ]
  },
  {
   "cell_type": "code",
   "execution_count": 12,
   "id": "e1734edc",
   "metadata": {},
   "outputs": [
    {
     "data": {
      "text/plain": [
       "0.00030000000039720476"
      ]
     },
     "execution_count": 12,
     "metadata": {},
     "output_type": "execute_result"
    }
   ],
   "source": [
    "h = 0.0001\n",
    "x = 2/3\n",
    "(func(x + h) - func(x))/h"
   ]
  },
  {
   "cell_type": "markdown",
   "id": "de45c6d6",
   "metadata": {},
   "source": [
    "- Deriviate is telling me if i increase x just a little bit, then how does the function respond?\n",
    "- Is it going up or down at that slope? (rise over run)\n",
    "- Slope is the steepness of a point."
   ]
  },
  {
   "cell_type": "code",
   "execution_count": 13,
   "id": "dc8f8db4",
   "metadata": {},
   "outputs": [
    {
     "name": "stdout",
     "output_type": "stream",
     "text": [
      "4.0\n"
     ]
    }
   ],
   "source": [
    "a = 2.0\n",
    "b = -3.0\n",
    "c = 10\n",
    "\n",
    "d = a*b + c\n",
    "print(d)"
   ]
  },
  {
   "cell_type": "code",
   "execution_count": 14,
   "id": "b835614f",
   "metadata": {},
   "outputs": [
    {
     "name": "stdout",
     "output_type": "stream",
     "text": [
      "d1 4.0\n",
      "d2 3.999699999999999\n",
      "slope -3.000000000010772\n"
     ]
    }
   ],
   "source": [
    "h = 0.0001\n",
    "\n",
    "# inputs\n",
    "a = 2.0\n",
    "b = -3.0\n",
    "c = 10\n",
    "\n",
    "d1 = a*b + c\n",
    "a += h\n",
    "d2 = a*b + c\n",
    "\n",
    "print('d1', d1)\n",
    "print('d2', d2)\n",
    "print('slope', (d2 - d1)/h)"
   ]
  },
  {
   "cell_type": "markdown",
   "id": "50859b0e",
   "metadata": {},
   "source": [
    "- increasing c by h results in h/h -> 1\n",
    "- increasing a by h results in a negative slope, because a is increased and multiplied by negative\n",
    "- increasing b by h results in a positive slope, because b is increased(less of a negative number)\n",
    "\n",
    "This all tells us how much each number contirbutes to the outcome!"
   ]
  }
 ],
 "metadata": {
  "kernelspec": {
   "display_name": "novigrad",
   "language": "python",
   "name": "python3"
  },
  "language_info": {
   "codemirror_mode": {
    "name": "ipython",
    "version": 3
   },
   "file_extension": ".py",
   "mimetype": "text/x-python",
   "name": "python",
   "nbconvert_exporter": "python",
   "pygments_lexer": "ipython3",
   "version": "3.13.2"
  }
 },
 "nbformat": 4,
 "nbformat_minor": 5
}
